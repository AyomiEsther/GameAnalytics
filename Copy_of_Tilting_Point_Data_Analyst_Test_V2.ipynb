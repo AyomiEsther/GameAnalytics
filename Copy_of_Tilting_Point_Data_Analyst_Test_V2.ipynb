{
  "cells": [
    {
      "cell_type": "code",
      "execution_count": null,
      "metadata": {
        "colab": {
          "base_uri": "https://localhost:8080/"
        },
        "id": "0cazkDxzyLLj",
        "outputId": "241bba09-a805-4998-f622-f1246457f424"
      },
      "outputs": [],
      "source": [
        "\n",
        "!pip install SQLAlchemy==1.4.46\n",
        "!pip install pandasql"
      ]
    },
    {
      "cell_type": "code",
      "execution_count": null,
      "metadata": {
        "id": "DfTD5AvnyLLk"
      },
      "outputs": [],
      "source": [
        "import pandasql as pdsql\n",
        "import pandas as pd"
      ]
    },
    {
      "cell_type": "code",
      "execution_count": null,
      "metadata": {
        "id": "ez7gtXJfyLLl"
      },
      "outputs": [],
      "source": [
        "# Load in raw table\n",
        "event = pd.read_csv('Event.csv')"
      ]
    },
    {
      "cell_type": "code",
      "execution_count": null,
      "metadata": {
        "colab": {
          "base_uri": "https://localhost:8080/",
          "height": 1000
        },
        "id": "YVjVoa3sQW0p",
        "outputId": "4364d75e-194d-4f83-8004-54adabe86548"
      },
      "outputs": [],
      "source": [
        "event"
      ]
    },
    {
      "cell_type": "code",
      "execution_count": null,
      "metadata": {
        "colab": {
          "base_uri": "https://localhost:8080/"
        },
        "id": "4t3adQ9QQhYa",
        "outputId": "298f14b1-666a-4ca4-eabd-a9c0fa950544"
      },
      "outputs": [],
      "source": [
        "event.columns"
      ]
    },
    {
      "cell_type": "code",
      "execution_count": null,
      "metadata": {
        "colab": {
          "base_uri": "https://localhost:8080/",
          "height": 36
        },
        "id": "it7NraaVQl2f",
        "outputId": "a747e7e7-4c99-4331-e6f0-b8330b834622"
      },
      "outputs": [],
      "source": [
        "event[\"device_id\"].unique()[10]"
      ]
    },
    {
      "cell_type": "code",
      "execution_count": null,
      "metadata": {
        "colab": {
          "base_uri": "https://localhost:8080/",
          "height": 1000
        },
        "id": "AtwKGNuNSh_c",
        "outputId": "06a65969-2e17-4bb7-e8cd-70b4c339a145"
      },
      "outputs": [],
      "source": [
        "event1 = event[event[\"device_id\"] == \"6cb264f7-86b4-43ca-949f-11d3264fc60d\"]\n",
        "event1"
      ]
    },
    {
      "cell_type": "code",
      "execution_count": null,
      "metadata": {
        "colab": {
          "base_uri": "https://localhost:8080/"
        },
        "id": "1a0SgcYgTm_s",
        "outputId": "af945d6c-bf35-4d20-f1ae-75fac4652368"
      },
      "outputs": [],
      "source": [
        "event1.info()"
      ]
    },
    {
      "cell_type": "code",
      "execution_count": null,
      "metadata": {
        "colab": {
          "base_uri": "https://localhost:8080/"
        },
        "id": "lY0GCxi4TcLJ",
        "outputId": "14aa06c8-297f-4122-fef8-1f390969d3f5"
      },
      "outputs": [],
      "source": [
        "sum1 = event1[\"revenue\"].sum()\n",
        "sum1"
      ]
    },
    {
      "cell_type": "code",
      "execution_count": null,
      "metadata": {
        "id": "GnQ0XAdnyLLl"
      },
      "outputs": [],
      "source": [
        "# Runing this cell using Ctrl+Enter to define a SQL function\n",
        "def run_sql(sql_string):\n",
        "    try:\n",
        "        result = pdsql.sqldf(sql_string)\n",
        "        return result\n",
        "    except Exception as e:\n",
        "        print('''Query Excecution Failed''')\n",
        "        print('Error: ',e)\n",
        "\n",
        "def to_csv(table, target_file_name):\n",
        "    table.to_csv(target_file_name+'.csv')"
      ]
    },
    {
      "cell_type": "markdown",
      "metadata": {
        "id": "wlBZywRwyLLp"
      },
      "source": [
        "### Question 1"
      ]
    },
    {
      "attachments": {},
      "cell_type": "markdown",
      "metadata": {
        "id": "zjx_gGWUyLLp"
      },
      "source": [
        "\n",
        "#### An \"Event\" is a snapshot of event that happened in game, for example, when user logs in the game, an event 'session_start' is being sent, when user conducts a purchase, 'iap_purchase' is being sent in this case.\n",
        "- device_id: each device_id indicates a unique device\n",
        "- event_ts: timestamp of the event happening\n",
        "- event_name: name of the event\n",
        "- platform: whether it's iOS or Android\n",
        "- session_id: all events happened in a session shares the same session ID\n",
        "- event_location: where in game this event is happening\n",
        "- session_duration: how long has session started when this event happen, in seconds\n",
        "- country: country of the user\n",
        "- revenue: How much has this user spend, in USD\n",
        "- item_purchase: what in game item is being purchased\n",
        "- Ad_type: The game will show ads to players in game, player can get an in game item as a reward and the game gets ad revenue. This is the type of Advertisement being shown to the user in game\n",
        "- Ad_placement: where in the game is this ad being placed"
      ]
    },
    {
      "attachments": {},
      "cell_type": "markdown",
      "metadata": {
        "id": "aO2-wAv3yLLq"
      },
      "source": [
        "#### Observe event table, what insight can you find about revenue?"
      ]
    },
    {
      "cell_type": "markdown",
      "metadata": {
        "id": "Qb-FZ0f2X_x_"
      },
      "source": [
        "To Calculate Total Revenue Generated\n"
      ]
    },
    {
      "cell_type": "code",
      "execution_count": null,
      "metadata": {
        "colab": {
          "base_uri": "https://localhost:8080/",
          "height": 81
        },
        "id": "eeHP99awX-5l",
        "outputId": "a98f6a05-6504-43bf-831e-0ec658b6bb0a"
      },
      "outputs": [],
      "source": [
        "run_sql('''SELECT sum(Revenue) As Total_revenue FROM event''')"
      ]
    },
    {
      "cell_type": "markdown",
      "metadata": {
        "id": "CdYpce7XYj4P"
      },
      "source": [
        "Total Revenue Generated per event"
      ]
    },
    {
      "cell_type": "code",
      "execution_count": null,
      "metadata": {
        "colab": {
          "base_uri": "https://localhost:8080/",
          "height": 175
        },
        "id": "sj8E0XCYY5YV",
        "outputId": "9f90484c-0a26-4bbc-e7c9-eb09aec9a4ee"
      },
      "outputs": [],
      "source": [
        "run_sql('''SELECT event_name, sum(revenue) FROM event Group by event_name''' )"
      ]
    },
    {
      "cell_type": "markdown",
      "metadata": {
        "id": "U3f-Xn8EZcST"
      },
      "source": [
        "Revenue Generated By Platform in Ascending Order"
      ]
    },
    {
      "cell_type": "code",
      "execution_count": null,
      "metadata": {
        "colab": {
          "base_uri": "https://localhost:8080/",
          "height": 175
        },
        "id": "yGaZfd_EZl_q",
        "outputId": "acaa6340-dc46-4744-8306-4b91dcea6196"
      },
      "outputs": [],
      "source": [
        "run_sql('''SELECT platform, SUM(revenue) AS platform_revenue,\n",
        "       (SUM(revenue) * 100) / (SELECT SUM(revenue) FROM event) AS percentage_total_revenue\n",
        "FROM event\n",
        "GROUP BY platform\n",
        "Order by sum(revenue) ASC''')\n",
        "\n"
      ]
    },
    {
      "cell_type": "markdown",
      "metadata": {
        "id": "MiDtf-8zGpFX"
      },
      "source": [
        "Total Sum Of Revenue Generated according to item_purchased in Descending Order"
      ]
    },
    {
      "cell_type": "code",
      "execution_count": null,
      "metadata": {
        "colab": {
          "base_uri": "https://localhost:8080/",
          "height": 457
        },
        "id": "zNE9b_LPFWbA",
        "outputId": "005d6166-be96-4a04-d6d6-e10421f79203"
      },
      "outputs": [],
      "source": [
        "run_sql('''SELECT item_purchased, sum(revenue) From event\n",
        "Group by item_purchased\n",
        "Order by sum(revenue) DESC''')"
      ]
    },
    {
      "cell_type": "markdown",
      "metadata": {
        "id": "witya1jmdSOH"
      },
      "source": [
        "Calculating Total Revenue Generated in Each Location"
      ]
    },
    {
      "cell_type": "code",
      "execution_count": null,
      "metadata": {
        "colab": {
          "base_uri": "https://localhost:8080/",
          "height": 1000
        },
        "id": "_xVQF5lAeAIF",
        "outputId": "dc87a0df-12c3-4ed4-e16e-cac4a645181f"
      },
      "outputs": [],
      "source": [
        "run_sql('''SELECT country, sum(revenue)\n",
        "FROM event\n",
        "GROUP by country\n",
        "Order by sum(revenue) DESC''')"
      ]
    },
    {
      "cell_type": "markdown",
      "metadata": {
        "id": "xlHMQHjIH6GZ"
      },
      "source": [
        "Top Five Unique Device With The Highest Revenue And Countries"
      ]
    },
    {
      "cell_type": "code",
      "execution_count": null,
      "metadata": {
        "colab": {
          "base_uri": "https://localhost:8080/",
          "height": 206
        },
        "id": "JXl_JlhGHO9I",
        "outputId": "d6817547-72c7-464d-f9e0-4012e870b371"
      },
      "outputs": [],
      "source": [
        "run_sql(''' SELECT Distinct(device_id), sum(revenue), country from event\n",
        "Group by device_id\n",
        "Order by sum(revenue) DESC\n",
        "Limit 5''')"
      ]
    },
    {
      "cell_type": "markdown",
      "metadata": {
        "id": "sfM0bQapIYIe"
      },
      "source": [
        "Average Revenue Generated"
      ]
    },
    {
      "cell_type": "code",
      "execution_count": null,
      "metadata": {
        "colab": {
          "base_uri": "https://localhost:8080/",
          "height": 81
        },
        "id": "1vARlPY3xW8t",
        "outputId": "91ab3294-0866-4801-f9a1-12869f7e34b6"
      },
      "outputs": [],
      "source": [
        "run_sql('''SELECT AVG(revenue) AS average_revenue\n",
        "FROM (\n",
        "    SELECT device_id, SUM(revenue) AS revenue\n",
        "    FROM event\n",
        "    GROUP BY device_id\n",
        ") AS user_revenue\n",
        "''' )"
      ]
    },
    {
      "cell_type": "markdown",
      "metadata": {
        "id": "WI_B17txyLLs"
      },
      "source": [
        "#### What's the average number of events triggered per user?"
      ]
    },
    {
      "cell_type": "markdown",
      "metadata": {
        "id": "_pnybmq3IkfE"
      },
      "source": [
        "Average Number Of Event Per Users"
      ]
    },
    {
      "cell_type": "code",
      "execution_count": null,
      "metadata": {
        "colab": {
          "base_uri": "https://localhost:8080/",
          "height": 81
        },
        "id": "NacjoV1Ldf6s",
        "outputId": "cb4c7478-99c4-4535-b174-ad630533ffc9"
      },
      "outputs": [],
      "source": [
        "run_sql(''' SELECT COUNT (*) / COUNT(DISTINCT device_id) AS average_events_per_user\n",
        "FROM event''')"
      ]
    },
    {
      "attachments": {},
      "cell_type": "markdown",
      "metadata": {
        "id": "Ft6vO-C9yLLu"
      },
      "source": [
        "### Question 2\n",
        "##### Creating a table called device, with columns defined below, this is a table which designed to store user level data\n",
        "\n",
        "##### - LTV\n",
        "- Life time revenue of a user\n",
        "\n",
        "##### - Payer Type, defined below, according to LTV:\n",
        "- \\$0 Non Payer\n",
        "- between \\$0 and \\$40: Minnow\n",
        "- between \\$40 and \\$80: Dolphin\n",
        "- between \\$80 and \\$120: Whale\n",
        "- over \\$120: Super Whale\n",
        "\n",
        "\n",
        "##### - Install Date\n",
        "- Install date is defined as the date when first event is sent\n",
        "\n",
        "##### - Unique days active\n",
        "\n",
        "##### - Country\n",
        "\n",
        "##### - Platform\n"
      ]
    },
    {
      "cell_type": "markdown",
      "metadata": {
        "id": "e1k2pud2jtN_"
      },
      "source": [
        "Creating The Table 'Device' From Already Existing Table 'Event'"
      ]
    },
    {
      "cell_type": "code",
      "execution_count": null,
      "metadata": {
        "id": "QlTzoAhvvz7i"
      },
      "outputs": [],
      "source": [
        "device = run_sql('''select device_id,\n",
        "SUM(revenue) AS LTV,\n",
        "substr(event_ts, 1, 10) AS install_date,\n",
        "COUNT(DISTINCT SUBSTR(event_ts, 1, 10)) AS unique_active_days, platform,\n",
        "country\n",
        "from event\n",
        "group by device_id''')\n"
      ]
    },
    {
      "cell_type": "markdown",
      "metadata": {
        "id": "RW4xFjg0kbVd"
      },
      "source": [
        "Using The Common Table Expression, I Defined my New Columns According To The Given Definition.\n",
        "\n"
      ]
    },
    {
      "cell_type": "code",
      "execution_count": null,
      "metadata": {
        "id": "z-lduUMowPgt"
      },
      "outputs": [],
      "source": [
        "device = run_sql('''WITH cte AS (\n",
        "    SELECT\n",
        "        device_id,\n",
        "        SUM(revenue) AS LTV,\n",
        "        substr(event_ts, 1, 10) AS install_date,\n",
        "        COUNT(DISTINCT SUBSTR(event_ts, 1, 10)) AS unique_active_days,\n",
        "\n",
        "        platform,\n",
        "        country\n",
        "        FROM\n",
        "        event\n",
        "        GROUP BY\n",
        "        device_id)\n",
        "SELECT\n",
        "device_id,\n",
        "install_date,\n",
        "unique_active_days,\n",
        "platform,\n",
        "country,\n",
        "    LTV,\n",
        "    CASE\n",
        "        WHEN LTV = 0 THEN 'Non Payer'\n",
        "        WHEN LTV BETWEEN 0 AND 40 THEN 'Minnow'\n",
        "        WHEN LTV BETWEEN 40 AND 80 THEN 'Dolphin'\n",
        "        WHEN LTV BETWEEN 80 AND 120 THEN 'Whale'\n",
        "        ELSE 'Super Whale'\n",
        "    END AS payer_type\n",
        "FROM\n",
        "    cte\n",
        "''')"
      ]
    },
    {
      "cell_type": "markdown",
      "metadata": {
        "id": "d1CbZvgbJnnf"
      },
      "source": [
        "Querying The New Table 'Device'."
      ]
    },
    {
      "cell_type": "code",
      "execution_count": null,
      "metadata": {
        "colab": {
          "base_uri": "https://localhost:8080/",
          "height": 423
        },
        "id": "4UyYjdMDYUuZ",
        "outputId": "1f94a2d5-2089-4a74-9275-4a1eae580871"
      },
      "outputs": [],
      "source": [
        "run_sql('''select * from device''')"
      ]
    },
    {
      "cell_type": "markdown",
      "metadata": {
        "id": "wK0Ujs3dKW-L"
      },
      "source": [
        "Counting The Numbers of the users on payer_type 'Minnow'"
      ]
    },
    {
      "cell_type": "code",
      "execution_count": null,
      "metadata": {
        "colab": {
          "base_uri": "https://localhost:8080/",
          "height": 81
        },
        "id": "AcBZekCY5eRJ",
        "outputId": "13ea6926-3de7-4ba2-ba90-0920ff574805"
      },
      "outputs": [],
      "source": [
        "run_sql(''' SELECT count(device_id) From device where payer_type = 'Minnow' ''')"
      ]
    },
    {
      "cell_type": "markdown",
      "metadata": {
        "id": "pLIqN05NKn1N"
      },
      "source": [
        "Counting The Numbers of the users on payer_type 'Super_Whale'"
      ]
    },
    {
      "cell_type": "code",
      "execution_count": null,
      "metadata": {
        "colab": {
          "base_uri": "https://localhost:8080/",
          "height": 81
        },
        "id": "9FsZpWos87FJ",
        "outputId": "2b8e3d86-9235-4933-ed61-d9025c03c7ea"
      },
      "outputs": [],
      "source": [
        "run_sql(''' SELECT count(device_id) From device where payer_type = 'Super Whale' ''')"
      ]
    },
    {
      "cell_type": "markdown",
      "metadata": {
        "id": "MHJ70RqsKu8b"
      },
      "source": [
        "Counting The Numbers of the users on payer_type 'Dolphin'"
      ]
    },
    {
      "cell_type": "code",
      "execution_count": null,
      "metadata": {
        "colab": {
          "base_uri": "https://localhost:8080/",
          "height": 81
        },
        "id": "VWjL7q4v9er2",
        "outputId": "6e0ac66a-9cab-42f6-8932-4bb0c8f6308b"
      },
      "outputs": [],
      "source": [
        "run_sql(''' SELECT count(device_id) From device where payer_type = 'Dolphin' ''')"
      ]
    },
    {
      "cell_type": "markdown",
      "metadata": {
        "id": "4QOyA7OxyLLv"
      },
      "source": [
        "### Question3: Retention\n",
        "#### -  Retention is defined as number of user returned X days after they install\n",
        "For example: If 100 users installed on Jan 1st (Day0), 50 came back on Jan 2nd (day1), 30 came back on Jan 4th(day3), then day1 retention is 50/100 = 50%, day3 is 30/100 = 30%\n",
        "\n",
        "Given above, calculate Day1,3,7,30 retention for each install date,\n",
        "\n",
        "__Note__: Retention 0 and retention NULL is very different! For example, suppose today is Jan 5th, then day7 retention won't be avaialble for people installed on Jan 1st, since there's only 5 days passed. As such, Day7 retention should be set to NULL, rather than 0. Whereas if nobody returns on Jan 3rd, then day2 retention is 0, rather then null.\n",
        "\n",
        "Write a query to calculate retention by install_date."
      ]
    },
    {
      "cell_type": "markdown",
      "metadata": {
        "id": "wotC05FvK7h_"
      },
      "source": [
        "Calculating Retention for Day 1,3,7 and 30."
      ]
    },
    {
      "cell_type": "code",
      "execution_count": null,
      "metadata": {
        "colab": {
          "base_uri": "https://localhost:8080/",
          "height": 488
        },
        "id": "W2URAhmuyLLw",
        "outputId": "80c2e984-d178-4757-f11e-f4552ed1f69e"
      },
      "outputs": [],
      "source": [
        "\n",
        "run_sql('''SELECT\n",
        "    install_date,\n",
        "    COUNT(DISTINCT Device_id) AS total_installs,\n",
        "    COUNT(CASE WHEN unique_active_days >= 1 THEN Device_id END) AS day1_retention,\n",
        "    COUNT(CASE WHEN unique_active_days >= 3 THEN Device_id END) AS day3_retention,\n",
        "    COUNT(CASE WHEN unique_active_days >= 7 THEN Device_id END) AS day7_retention,\n",
        "    COUNT(CASE WHEN unique_active_days >= 30 THEN Device_id END) AS day30_retention\n",
        "FROM\n",
        "    device\n",
        "GROUP BY\n",
        "    install_date''')\n"
      ]
    },
    {
      "cell_type": "markdown",
      "metadata": {
        "id": "yODXduiXLFeN"
      },
      "source": [
        "Calculating the Retention In Percentage"
      ]
    },
    {
      "cell_type": "code",
      "execution_count": null,
      "metadata": {
        "colab": {
          "base_uri": "https://localhost:8080/",
          "height": 532
        },
        "id": "hoZe8DpIocvf",
        "outputId": "841ae587-0ba5-433d-c446-a50d1bd2a70c"
      },
      "outputs": [],
      "source": [
        "run_sql('''SELECT\n",
        "    install_date,\n",
        "    COUNT(DISTINCT Device_id) AS total_installs,\n",
        "    ROUND(CAST(COUNT(CASE WHEN unique_active_days >= 1 THEN Device_id END) AS FLOAT) / COUNT(DISTINCT Device_id) * 100, 2) AS day1_retention_percentage,\n",
        "    ROUND(CAST(COUNT(CASE WHEN unique_active_days >= 3 THEN Device_id END) AS FLOAT) / COUNT(DISTINCT Device_id) * 100, 2) AS day3_retention_percentage,\n",
        "    ROUND(CAST(COUNT(CASE WHEN unique_active_days >= 7 THEN Device_id END) AS FLOAT) / COUNT(DISTINCT Device_id) * 100, 2) AS day7_retention_percentage,\n",
        "    ROUND(CAST(COUNT(CASE WHEN unique_active_days >= 30 THEN Device_id END) AS FLOAT) / COUNT(DISTINCT Device_id) * 100, 2) AS day30_retention_percentage\n",
        "FROM\n",
        "    device\n",
        "GROUP BY\n",
        "    install_date''')\n"
      ]
    }
  ],
  "metadata": {
    "colab": {
      "provenance": []
    },
    "kernelspec": {
      "display_name": "Python 3",
      "language": "python",
      "name": "python3"
    },
    "language_info": {
      "codemirror_mode": {
        "name": "ipython",
        "version": 3
      },
      "file_extension": ".py",
      "mimetype": "text/x-python",
      "name": "python",
      "nbconvert_exporter": "python",
      "pygments_lexer": "ipython3",
      "version": "3.6.4"
    }
  },
  "nbformat": 4,
  "nbformat_minor": 0
}
